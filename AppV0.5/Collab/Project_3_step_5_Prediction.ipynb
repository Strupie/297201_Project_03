{
 "cells": [
  {
   "cell_type": "markdown",
   "id": "7ca21afd",
   "metadata": {},
   "source": [
    "# 297201 PROJECT 3: \n",
    "## Step 5: Training the Model\n",
    "by: <rb>\n",
    "Jonathan Tan, <br>\n",
    "Seunghyeok Kang, <br>\n",
    "John Lavack, 20001249\n",
    "\n",
    "This code does:\n",
    "1. Defines a function to train and evaluate any mode\n",
    "2. Trains the data from step 4 on a variety of algorithm. \n",
    "3. The best algorithm is chosen manually\n",
    "4. The best algorithm is hyper tuned\n",
    "5. A function to create an input to the model is define and tested\n",
    "6. the model is exported. "
   ]
  },
  {
   "cell_type": "code",
   "execution_count": 2,
   "id": "6c32ddb4",
   "metadata": {},
   "outputs": [],
   "source": [
    "# imports\n",
    "import numpy as np\n",
    "import pandas as pd\n",
    "import matplotlib.pyplot as plt\n",
    "import seaborn as sns\n",
    "import pylab\n",
    "import csv\n",
    "import joblib\n",
    "from sklearn.metrics import mean_absolute_error, mean_squared_error\n",
    "from sklearn.metrics import log_loss,classification_report\n",
    "from sklearn.metrics import accuracy_score, precision_score, recall_score, f1_score, confusion_matrix\n",
    "from sklearn.metrics import roc_curve, roc_auc_score, auc\n",
    "from sklearn.metrics import precision_recall_curve, average_precision_score\n",
    "from sklearn.model_selection import train_test_split, KFold, cross_val_score, RepeatedStratifiedKFold\n",
    "from sklearn import svm\n",
    "from sklearn.svm import SVC\n",
    "from sklearn.naive_bayes import GaussianNB\n",
    "from sklearn.neighbors import KNeighborsClassifier\n",
    "from sklearn.neural_network import MLPClassifier\n",
    "from xgboost import XGBClassifier, XGBRegressor\n",
    "import scipy.stats as stats\n",
    "from hyperopt import fmin, tpe, hp, STATUS_OK, Trials\n",
    "import warnings\n",
    "\n",
    "warnings.filterwarnings('ignore')"
   ]
  },
  {
   "cell_type": "markdown",
   "id": "adbc9148",
   "metadata": {},
   "source": [
    "# Training Models Function"
   ]
  },
  {
   "cell_type": "code",
   "execution_count": 3,
   "id": "80fe1a18",
   "metadata": {},
   "outputs": [],
   "source": [
    "def train_a_model(X, y, k, rs, mod ):\n",
    "    X_train, X_test, y_train, y_test = train_test_split(X, y, random_state=rs,  test_size=0.2)\n",
    "\n",
    "    model = mod\n",
    "    model.fit(X_train, y_train)\n",
    "    predictions = model.predict(X_test)\n",
    "    y_pred_proba = model.predict_proba(X_test)\n",
    "      \n",
    "    #Cross validate\n",
    "    #set the Kfold\n",
    "    kf = KFold(n_splits = k, random_state=6, shuffle = True) \n",
    "    #do the cross validation\n",
    "    scores = cross_val_score(model, X_test, y_test, cv=kf, scoring='accuracy', n_jobs = -1)\n",
    "    #view mean absolute error\n",
    "    MSEscores = cross_val_score(model, X_test, y_test, scoring='neg_mean_absolute_error', cv=kf)\n",
    "    MSE = np.round(abs(MSEscores.mean()),4)\n",
    "    #view RMSE\n",
    "    RMSEscores = cross_val_score(model, X_test, y_test, scoring='neg_mean_squared_error',cv=kf)\n",
    "    RMSE = np.round(np.sqrt(abs(RMSEscores.mean())),4)\n",
    "\n",
    "    conmat = confusion_matrix(y_test, predictions)\n",
    "    val = np.mat(conmat) \n",
    "    classnames = list(set(y_train))\n",
    "    df_cm = pd.DataFrame(val, index=classnames, columns=classnames)\n",
    "    \n",
    "    classifier = np.round(model.score(X_test, y_test),4)\n",
    "    train_accuracy = np.round(model.score(X_test, y_test), 4)\n",
    "    accuracy = np.round(accuracy_score(y_test, predictions), 4)\n",
    "    precision = np.round(precision_score(y_test, predictions, average='macro'), 4)\n",
    "    recall = np.round(recall_score(y_test, predictions, average='macro'), 4)\n",
    "    f1 = np.round(f1_score(y_test, predictions, average='macro'), 4)\n",
    "    AUROC = np.round(roc_auc_score(y_test, y_pred_proba[:,1]), 4)\n",
    "    ll = log_loss(y_test, y_pred_proba)\n",
    "    \n",
    "    #----------------Print scores----------------------------------------------\n",
    "    print(\"\\n---------CLASSIFIER PERFORMANCE-------------------------------\\n\")\n",
    "    print('       Classifier score: ', classifier)\n",
    "    print(\"      Training Accuracy: \", train_accuracy)\n",
    "    print(\"    Prediciton Accuracy: \", accuracy)\n",
    "    print(\"              Precision: \", precision)\n",
    "    print(\"                 Recall: \", recall)\n",
    "    print(\"               F1 Score: \", f1)\n",
    "    print(\"                  AUROC: \", AUROC)\n",
    "    print(\"               Log Loss: \", ll)\n",
    "    print(\"\\n---------CROSS VALIDATION-------------------------------------\\n\")\n",
    "    print(' Cross validated scores: ', np.round(scores,4))\n",
    "    print('     Mean of CV results: ', np.round(scores.mean(), 4))\n",
    "    print('      STD of CV results: ', np.round(scores.std(), 4))\n",
    "    print('    Absolute Mean Error: ', MSE)\n",
    "    print('                   RMSE: ', RMSE)\n",
    "    print(\"\\n---------CLASSIFICATION REPORT--------------------------------\\n\")\n",
    "    print('\\n', classification_report(y_test, predictions))\n",
    "    print(\"\\n---------CONFUSION MATRIX-------------------------------------\\n\")    \n",
    "    print(df_cm)\n",
    "    print(\"\\n---------GRAPHICS---------------------------------------------\\n\") \n",
    "    \n",
    "    #raw confusion matrix\n",
    "    plt.figure()\n",
    "    heatmap = sns.heatmap(df_cm, annot=True, cmap=\"Blues\")\n",
    "    heatmap.yaxis.set_ticklabels(heatmap.yaxis.get_ticklabels(), rotation=0, ha='right')\n",
    "    heatmap.xaxis.set_ticklabels(heatmap.xaxis.get_ticklabels(), rotation=45, ha='right')\n",
    "    plt.ylabel('True label')\n",
    "    plt.xlabel('Predicted label')\n",
    "    plt.title('Confusion Matrix KNN Regression Model Results')\n",
    "    plt.show()  \n",
    "    \n",
    "    #confusion matrix as percentages\n",
    "    df_cm = df_cm.astype('float') / df_cm.sum(axis=1)  \n",
    "    \n",
    "    plt.figure()\n",
    "    heatmap = sns.heatmap(df_cm, annot=True, cmap=\"Blues\")\n",
    "    heatmap.yaxis.set_ticklabels(heatmap.yaxis.get_ticklabels(), rotation=0, ha='right')\n",
    "    heatmap.xaxis.set_ticklabels(heatmap.xaxis.get_ticklabels(), rotation=45, ha='right')\n",
    "    plt.ylabel('True label')\n",
    "    plt.xlabel('Predicted label')\n",
    "    plt.title('Confusion Matrix KNN Regression Model Results')\n",
    "    plt.show()     \n",
    "    \n",
    "    return model"
   ]
  },
  {
   "cell_type": "markdown",
   "id": "453ab897",
   "metadata": {},
   "source": [
    "# Read in the Data"
   ]
  },
  {
   "cell_type": "code",
   "execution_count": 4,
   "id": "fdea8a60",
   "metadata": {},
   "outputs": [],
   "source": [
    "match_df = pd.read_csv('match_df.csv').iloc[:, 1:]\n",
    "player_ability = pd.read_csv('ranked_player_data.csv').iloc[:, 1:]"
   ]
  },
  {
   "cell_type": "markdown",
   "id": "db1c9d1a",
   "metadata": {},
   "source": [
    "# Train the models\n"
   ]
  },
  {
   "cell_type": "code",
   "execution_count": 5,
   "id": "cfdc6495",
   "metadata": {},
   "outputs": [
    {
     "data": {
      "text/html": [
       "<div>\n",
       "<style scoped>\n",
       "    .dataframe tbody tr th:only-of-type {\n",
       "        vertical-align: middle;\n",
       "    }\n",
       "\n",
       "    .dataframe tbody tr th {\n",
       "        vertical-align: top;\n",
       "    }\n",
       "\n",
       "    .dataframe thead th {\n",
       "        text-align: right;\n",
       "    }\n",
       "</style>\n",
       "<table border=\"1\" class=\"dataframe\">\n",
       "  <thead>\n",
       "    <tr style=\"text-align: right;\">\n",
       "      <th></th>\n",
       "      <th>player_id</th>\n",
       "      <th>name</th>\n",
       "      <th>Ability_score</th>\n",
       "      <th>attack_score</th>\n",
       "      <th>defend_score</th>\n",
       "      <th>attacking_rank</th>\n",
       "      <th>defending_rank</th>\n",
       "    </tr>\n",
       "  </thead>\n",
       "  <tbody>\n",
       "    <tr>\n",
       "      <th>0</th>\n",
       "      <td>153066</td>\n",
       "      <td>Harry Wilson</td>\n",
       "      <td>96.35</td>\n",
       "      <td>100.0</td>\n",
       "      <td>92.7</td>\n",
       "      <td>1.0</td>\n",
       "      <td>2.0</td>\n",
       "    </tr>\n",
       "    <tr>\n",
       "      <th>1</th>\n",
       "      <td>154110</td>\n",
       "      <td>Fraser McReight</td>\n",
       "      <td>71.95</td>\n",
       "      <td>61.7</td>\n",
       "      <td>82.2</td>\n",
       "      <td>5.0</td>\n",
       "      <td>3.0</td>\n",
       "    </tr>\n",
       "    <tr>\n",
       "      <th>2</th>\n",
       "      <td>165000</td>\n",
       "      <td>Tom Christie</td>\n",
       "      <td>69.65</td>\n",
       "      <td>39.3</td>\n",
       "      <td>100.0</td>\n",
       "      <td>46.0</td>\n",
       "      <td>1.0</td>\n",
       "    </tr>\n",
       "    <tr>\n",
       "      <th>3</th>\n",
       "      <td>161946</td>\n",
       "      <td>Rob Valetini</td>\n",
       "      <td>67.00</td>\n",
       "      <td>61.5</td>\n",
       "      <td>72.5</td>\n",
       "      <td>7.0</td>\n",
       "      <td>5.0</td>\n",
       "    </tr>\n",
       "    <tr>\n",
       "      <th>4</th>\n",
       "      <td>165852</td>\n",
       "      <td>Samisoni Taukei'aho</td>\n",
       "      <td>66.40</td>\n",
       "      <td>63.4</td>\n",
       "      <td>69.4</td>\n",
       "      <td>3.0</td>\n",
       "      <td>6.0</td>\n",
       "    </tr>\n",
       "    <tr>\n",
       "      <th>...</th>\n",
       "      <td>...</td>\n",
       "      <td>...</td>\n",
       "      <td>...</td>\n",
       "      <td>...</td>\n",
       "      <td>...</td>\n",
       "      <td>...</td>\n",
       "      <td>...</td>\n",
       "    </tr>\n",
       "    <tr>\n",
       "      <th>738</th>\n",
       "      <td>197280</td>\n",
       "      <td>Henry Robertson</td>\n",
       "      <td>0.00</td>\n",
       "      <td>0.0</td>\n",
       "      <td>0.0</td>\n",
       "      <td>681.0</td>\n",
       "      <td>681.0</td>\n",
       "    </tr>\n",
       "    <tr>\n",
       "      <th>739</th>\n",
       "      <td>196728</td>\n",
       "      <td>Grason Makara</td>\n",
       "      <td>0.00</td>\n",
       "      <td>0.0</td>\n",
       "      <td>0.0</td>\n",
       "      <td>672.0</td>\n",
       "      <td>677.0</td>\n",
       "    </tr>\n",
       "    <tr>\n",
       "      <th>740</th>\n",
       "      <td>192630</td>\n",
       "      <td>William Harris</td>\n",
       "      <td>0.00</td>\n",
       "      <td>0.0</td>\n",
       "      <td>0.0</td>\n",
       "      <td>688.0</td>\n",
       "      <td>687.0</td>\n",
       "    </tr>\n",
       "    <tr>\n",
       "      <th>741</th>\n",
       "      <td>192522</td>\n",
       "      <td>Lachie Albert</td>\n",
       "      <td>0.00</td>\n",
       "      <td>0.0</td>\n",
       "      <td>0.0</td>\n",
       "      <td>734.0</td>\n",
       "      <td>739.0</td>\n",
       "    </tr>\n",
       "    <tr>\n",
       "      <th>742</th>\n",
       "      <td>368232</td>\n",
       "      <td>Lachlan Shaw</td>\n",
       "      <td>0.00</td>\n",
       "      <td>0.0</td>\n",
       "      <td>0.0</td>\n",
       "      <td>682.0</td>\n",
       "      <td>694.0</td>\n",
       "    </tr>\n",
       "  </tbody>\n",
       "</table>\n",
       "<p>743 rows × 7 columns</p>\n",
       "</div>"
      ],
      "text/plain": [
       "     player_id                 name  Ability_score  attack_score  \\\n",
       "0       153066         Harry Wilson          96.35         100.0   \n",
       "1       154110      Fraser McReight          71.95          61.7   \n",
       "2       165000         Tom Christie          69.65          39.3   \n",
       "3       161946         Rob Valetini          67.00          61.5   \n",
       "4       165852  Samisoni Taukei'aho          66.40          63.4   \n",
       "..         ...                  ...            ...           ...   \n",
       "738     197280      Henry Robertson           0.00           0.0   \n",
       "739     196728        Grason Makara           0.00           0.0   \n",
       "740     192630       William Harris           0.00           0.0   \n",
       "741     192522        Lachie Albert           0.00           0.0   \n",
       "742     368232         Lachlan Shaw           0.00           0.0   \n",
       "\n",
       "     defend_score  attacking_rank  defending_rank  \n",
       "0            92.7             1.0             2.0  \n",
       "1            82.2             5.0             3.0  \n",
       "2           100.0            46.0             1.0  \n",
       "3            72.5             7.0             5.0  \n",
       "4            69.4             3.0             6.0  \n",
       "..            ...             ...             ...  \n",
       "738           0.0           681.0           681.0  \n",
       "739           0.0           672.0           677.0  \n",
       "740           0.0           688.0           687.0  \n",
       "741           0.0           734.0           739.0  \n",
       "742           0.0           682.0           694.0  \n",
       "\n",
       "[743 rows x 7 columns]"
      ]
     },
     "execution_count": 5,
     "metadata": {},
     "output_type": "execute_result"
    }
   ],
   "source": [
    "player_ability"
   ]
  },
  {
   "cell_type": "code",
   "execution_count": 6,
   "id": "7204ff41",
   "metadata": {},
   "outputs": [],
   "source": [
    "y = match_df['outcome']\n",
    "X = match_df[['home_ability_score', 'home_attack_score', 'home_defend_score', 'away_ability_score', 'away_attack_score', 'away_defend_score']]"
   ]
  },
  {
   "cell_type": "code",
   "execution_count": 7,
   "id": "4a0b93d1",
   "metadata": {
    "scrolled": true
   },
   "outputs": [
    {
     "name": "stdout",
     "output_type": "stream",
     "text": [
      "\n",
      "---------CLASSIFIER PERFORMANCE-------------------------------\n",
      "\n",
      "       Classifier score:  0.7551\n",
      "      Training Accuracy:  0.7551\n",
      "    Prediciton Accuracy:  0.7551\n",
      "              Precision:  0.7429\n",
      "                 Recall:  0.7133\n",
      "               F1 Score:  0.7216\n",
      "                  AUROC:  0.7599\n",
      "               Log Loss:  0.7732085181197866\n",
      "\n",
      "---------CROSS VALIDATION-------------------------------------\n",
      "\n",
      " Cross validated scores:  [0.9    0.6    0.7    0.6    0.6667]\n",
      "     Mean of CV results:  0.6933\n",
      "      STD of CV results:  0.1104\n",
      "    Absolute Mean Error:  0.3067\n",
      "                   RMSE:  0.5538\n",
      "\n",
      "---------CLASSIFICATION REPORT--------------------------------\n",
      "\n",
      "\n",
      "               precision    recall  f1-score   support\n",
      "\n",
      "           0       0.71      0.56      0.63        18\n",
      "           1       0.77      0.87      0.82        31\n",
      "\n",
      "    accuracy                           0.76        49\n",
      "   macro avg       0.74      0.71      0.72        49\n",
      "weighted avg       0.75      0.76      0.75        49\n",
      "\n",
      "\n",
      "---------CONFUSION MATRIX-------------------------------------\n",
      "\n",
      "    0   1\n",
      "0  10   8\n",
      "1   4  27\n",
      "\n",
      "---------GRAPHICS---------------------------------------------\n",
      "\n"
     ]
    },
    {
     "data": {
      "image/png": "[encoded data removed]",
      "text/plain": [
       "<Figure size 640x480 with 2 Axes>"
      ]
     },
     "metadata": {},
     "output_type": "display_data"
    },
    {
     "data": {
      "image/png": "[encoded data removed]",
      "text/plain": [
       "<Figure size 640x480 with 2 Axes>"
      ]
     },
     "metadata": {},
     "output_type": "display_data"
    }
   ],
   "source": [
    "model = GaussianNB()\n",
    "NB_mod = train_a_model(X, y, 5, 6, model)"
   ]
  },
  {
   "cell_type": "code",
   "execution_count": 6,
   "id": "bfa825cc",
   "metadata": {
    "scrolled": true
   },
   "outputs": [
    {
     "name": "stdout",
     "output_type": "stream",
     "text": [
      "\n",
      "---------CLASSIFIER PERFORMANCE-------------------------------\n",
      "\n",
      "       Classifier score:  0.7959\n",
      "      Training Accuracy:  0.7959\n",
      "    Prediciton Accuracy:  0.7959\n",
      "              Precision:  0.8086\n",
      "                 Recall:  0.7455\n",
      "               F1 Score:  0.7598\n",
      "                  AUROC:  0.7401\n",
      "               Log Loss:  0.5700269767976537\n",
      "\n",
      "---------CROSS VALIDATION-------------------------------------\n",
      "\n",
      " Cross validated scores:  [0.9    0.7    0.3    0.5    0.6667]\n",
      "     Mean of CV results:  0.6133\n",
      "      STD of CV results:  0.2018\n",
      "    Absolute Mean Error:  0.3867\n",
      "                   RMSE:  0.6218\n",
      "\n",
      "---------CLASSIFICATION REPORT--------------------------------\n",
      "\n",
      "\n",
      "               precision    recall  f1-score   support\n",
      "\n",
      "           0       0.83      0.56      0.67        18\n",
      "           1       0.78      0.94      0.85        31\n",
      "\n",
      "    accuracy                           0.80        49\n",
      "   macro avg       0.81      0.75      0.76        49\n",
      "weighted avg       0.80      0.80      0.78        49\n",
      "\n",
      "\n",
      "---------CONFUSION MATRIX-------------------------------------\n",
      "\n",
      "    0   1\n",
      "0  10   8\n",
      "1   2  29\n",
      "\n",
      "---------GRAPHICS---------------------------------------------\n",
      "\n"
     ]
    },
    {
     "data": {
      "image/png": "[encoded data removed]",
      "text/plain": [
       "<Figure size 432x288 with 2 Axes>"
      ]
     },
     "metadata": {
      "needs_background": "light"
     },
     "output_type": "display_data"
    },
    {
     "data": {
      "image/png": "[encoded data removed]",
      "text/plain": [
       "<Figure size 432x288 with 2 Axes>"
      ]
     },
     "metadata": {
      "needs_background": "light"
     },
     "output_type": "display_data"
    }
   ],
   "source": [
    "model = XGBClassifier(objective='binary:logistic', random_state = 6, learning_rate=0.2, \n",
    "                      max_depth=1, eta = 0.5, gamma = 5, min_child_weight = 2,\n",
    "                     subsample = 0.5, reg_lambda = 1, reg_alpha = 0)\n",
    "XGB_mod = train_a_model(X, y, 5, 6, model)"
   ]
  },
  {
   "cell_type": "code",
   "execution_count": 7,
   "id": "609e9d3e",
   "metadata": {
    "scrolled": true
   },
   "outputs": [
    {
     "name": "stdout",
     "output_type": "stream",
     "text": [
      "\n",
      "---------CLASSIFIER PERFORMANCE-------------------------------\n",
      "\n",
      "       Classifier score:  0.6327\n",
      "      Training Accuracy:  0.6327\n",
      "    Prediciton Accuracy:  0.6327\n",
      "              Precision:  0.3163\n",
      "                 Recall:  0.5\n",
      "               F1 Score:  0.3875\n",
      "                  AUROC:  0.5\n",
      "               Log Loss:  12.687713777722294\n",
      "\n",
      "---------CROSS VALIDATION-------------------------------------\n",
      "\n",
      " Cross validated scores:  [0.7    0.7    0.3    0.6    0.8889]\n",
      "     Mean of CV results:  0.6378\n",
      "      STD of CV results:  0.193\n",
      "    Absolute Mean Error:  0.3622\n",
      "                   RMSE:  0.6018\n",
      "\n",
      "---------CLASSIFICATION REPORT--------------------------------\n",
      "\n",
      "\n",
      "               precision    recall  f1-score   support\n",
      "\n",
      "           0       0.00      0.00      0.00        18\n",
      "           1       0.63      1.00      0.78        31\n",
      "\n",
      "    accuracy                           0.63        49\n",
      "   macro avg       0.32      0.50      0.39        49\n",
      "weighted avg       0.40      0.63      0.49        49\n",
      "\n",
      "\n",
      "---------CONFUSION MATRIX-------------------------------------\n",
      "\n",
      "   0   1\n",
      "0  0  18\n",
      "1  0  31\n",
      "\n",
      "---------GRAPHICS---------------------------------------------\n",
      "\n"
     ]
    },
    {
     "data": {
      "image/png": "[encoded data removed]",
      "text/plain": [
       "<Figure size 432x288 with 2 Axes>"
      ]
     },
     "metadata": {
      "needs_background": "light"
     },
     "output_type": "display_data"
    },
    {
     "data": {
      "image/png": "[encoded data removed]",
      "text/plain": [
       "<Figure size 432x288 with 2 Axes>"
      ]
     },
     "metadata": {
      "needs_background": "light"
     },
     "output_type": "display_data"
    }
   ],
   "source": [
    "model = MLPClassifier(solver='lbfgs', alpha=1e-5, activation = 'identity', learning_rate = 'constant',\n",
    "                    hidden_layer_sizes=(10, 2), random_state = 6)\n",
    "MLP_mod = train_a_model(X, y, 5, 6, model)"
   ]
  },
  {
   "cell_type": "code",
   "execution_count": 8,
   "id": "95c374ff",
   "metadata": {
    "scrolled": true
   },
   "outputs": [
    {
     "name": "stdout",
     "output_type": "stream",
     "text": [
      "\n",
      "---------CLASSIFIER PERFORMANCE-------------------------------\n",
      "\n",
      "       Classifier score:  0.6531\n",
      "      Training Accuracy:  0.6531\n",
      "    Prediciton Accuracy:  0.6531\n",
      "              Precision:  0.6241\n",
      "                 Recall:  0.621\n",
      "               F1 Score:  0.6222\n",
      "                  AUROC:  0.7025\n",
      "               Log Loss:  3.315693308066127\n",
      "\n",
      "---------CROSS VALIDATION-------------------------------------\n",
      "\n",
      " Cross validated scores:  [0.9    0.8    0.6    0.6    0.6667]\n",
      "     Mean of CV results:  0.7133\n",
      "      STD of CV results:  0.1185\n",
      "    Absolute Mean Error:  0.2867\n",
      "                   RMSE:  0.5354\n",
      "\n",
      "---------CLASSIFICATION REPORT--------------------------------\n",
      "\n",
      "\n",
      "               precision    recall  f1-score   support\n",
      "\n",
      "           0       0.53      0.50      0.51        18\n",
      "           1       0.72      0.74      0.73        31\n",
      "\n",
      "    accuracy                           0.65        49\n",
      "   macro avg       0.62      0.62      0.62        49\n",
      "weighted avg       0.65      0.65      0.65        49\n",
      "\n",
      "\n",
      "---------CONFUSION MATRIX-------------------------------------\n",
      "\n",
      "   0   1\n",
      "0  9   9\n",
      "1  8  23\n",
      "\n",
      "---------GRAPHICS---------------------------------------------\n",
      "\n"
     ]
    },
    {
     "data": {
      "image/png": "[encoded data removed]",
      "text/plain": [
       "<Figure size 640x480 with 2 Axes>"
      ]
     },
     "metadata": {},
     "output_type": "display_data"
    },
    {
     "data": {
      "image/png": "[encoded data removed]",
      "text/plain": [
       "<Figure size 640x480 with 2 Axes>"
      ]
     },
     "metadata": {},
     "output_type": "display_data"
    }
   ],
   "source": [
    "model = KNeighborsClassifier(n_neighbors=5, metric='euclidean')\n",
    "KNN_mod = train_a_model(X, y, 5, 6, model)"
   ]
  },
  {
   "cell_type": "code",
   "execution_count": 9,
   "id": "d5037293",
   "metadata": {
    "scrolled": true
   },
   "outputs": [
    {
     "name": "stdout",
     "output_type": "stream",
     "text": [
      "Accuracy: 75.51%\n",
      "              precision    recall  f1-score   support\n",
      "\n",
      "           0       0.75      0.50      0.60        18\n",
      "           1       0.76      0.90      0.82        31\n",
      "\n",
      "    accuracy                           0.76        49\n",
      "   macro avg       0.75      0.70      0.71        49\n",
      "weighted avg       0.75      0.76      0.74        49\n",
      "\n",
      "   0   1\n",
      "0  9   9\n",
      "1  3  28\n"
     ]
    }
   ],
   "source": [
    "#SVM doesn't have probabilities, so the funciton won't work for it\n",
    "X_train, X_test, y_train, y_test = train_test_split(X, y, random_state=6,  test_size=0.2)\n",
    "\n",
    "model = svm.SVC(kernel = 'linear', )\n",
    "model.fit(X_train, y_train)\n",
    "predictions = model.predict(X_test)\n",
    "\n",
    "accuracy = model.score(X_test, y_test)\n",
    "print(\"Accuracy: %.2f%%\" % (accuracy * 100.0))\n",
    "\n",
    "# Classification\n",
    "print(classification_report(y_test, predictions))\n",
    "\n",
    "#set the Kfold\n",
    "kf = KFold(n_splits = 5, random_state=6, shuffle = True) \n",
    "#do the cross validation\n",
    "scores = cross_val_score(model, X_test, y_test, cv=kf, scoring='accuracy', n_jobs = -1)\n",
    "#view mean absolute error\n",
    "MSEscores = cross_val_score(model, X_test, y_test, scoring='neg_mean_absolute_error', cv=kf)\n",
    "MSE = np.round(abs(MSEscores.mean()),4)\n",
    "#view RMSE\n",
    "RMSEscores = cross_val_score(model, X_test, y_test, scoring='neg_mean_squared_error',cv=kf)\n",
    "RMSE = np.round(np.sqrt(abs(RMSEscores.mean())),4)\n",
    "\n",
    "conmat = confusion_matrix(y_test, predictions)\n",
    "val = np.mat(conmat) \n",
    "classnames = list(set(y_train))\n",
    "df_cm = pd.DataFrame(val, index=classnames, columns=classnames)\n",
    "print(df_cm)"
   ]
  },
  {
   "cell_type": "markdown",
   "id": "d1f4110d",
   "metadata": {},
   "source": [
    "# Hyper Tuning XGBoost model"
   ]
  },
  {
   "cell_type": "code",
   "execution_count": 10,
   "id": "f6e21a93",
   "metadata": {},
   "outputs": [],
   "source": [
    "X_train, X_test, y_train, y_test = train_test_split(X, y, random_state=6,  test_size=0.2)"
   ]
  },
  {
   "cell_type": "code",
   "execution_count": 11,
   "id": "164adaa7",
   "metadata": {},
   "outputs": [],
   "source": [
    "hyper_params={'n_estimators': 180,\n",
    "              'max_depth': hp.quniform(\"max_depth\", 0, 18, 1),\n",
    "              'max_delta_step':hp.quniform('max_delta_step', 0,180,1),\n",
    "              'max_leaves': hp.quniform('max_leaves', 0,180,1),\n",
    "              'learning_rate':hp.uniform('learning_rate', 0.01,1),\n",
    "              'eta':hp.uniform('eta', 0.01,1),\n",
    "              'min_child_weight' : hp.quniform('min_child_weight', 0, 10, 1),\n",
    "              'subsample':hp.uniform ('subsample', 0.5,1),\n",
    "              'gamma': hp.uniform ('gamma', 0,9),\n",
    "              'reg_alpha' : hp.quniform('reg_alpha', 0,180,1),\n",
    "              'reg_lambda' : hp.uniform('reg_lambda', 0,1),\n",
    "              'colsample_bytree' : hp.uniform('colsample_bytree', 0.5,1),\n",
    "              'seed': 0\n",
    "             }"
   ]
  },
  {
   "cell_type": "code",
   "execution_count": 12,
   "id": "a283c1e2",
   "metadata": {},
   "outputs": [],
   "source": [
    "def HP_tuning(hyper_params):\n",
    "    model=XGBClassifier(objective='binary:logistic',\n",
    "                       grow_policy = 'lossguide',\n",
    "                       random_state = 6,\n",
    "                       learning_rate = hyper_params['learning_rate'],\n",
    "                       max_depth = int(hyper_params['max_depth']),\n",
    "                       max_delta_step = hyper_params['max_delta_step'],\n",
    "                       max_leaves = int(hyper_params['max_leaves']),\n",
    "                       eta = hyper_params['eta'],\n",
    "                       min_child_weight = int(hyper_params['min_child_weight']),\n",
    "                       subsample = hyper_params['subsample'],\n",
    "                       gamma = hyper_params['gamma'],\n",
    "                       reg_lambda = hyper_params['reg_lambda'],\n",
    "                       #reg_alpha = int(hyper_params['reg_alpha']),\n",
    "                       colsample_bytree= int(hyper_params['colsample_bytree']),\n",
    "                       n_estimators = hyper_params['n_estimators']\n",
    "                      )\n",
    "    \n",
    "    evaluation = [( X_train, y_train), ( X_test, y_test)]\n",
    "    \n",
    "    model.fit(X_train, y_train,)\n",
    "          #  eval_set=evaluation, eval_metric=\"auc\",\n",
    "          #  early_stopping_rounds=30,verbose=False)\n",
    "\n",
    "    pred = model.predict(X_test)\n",
    "    accuracy = accuracy_score(y_test, pred>0.5)\n",
    "    print (\"SCORE:\", accuracy)\n",
    "    #change the metric if you like\n",
    "    \n",
    "    return {'loss': -accuracy, 'status': STATUS_OK, 'model': model}"
   ]
  },
  {
   "cell_type": "code",
   "execution_count": 13,
   "id": "ec6790bb",
   "metadata": {},
   "outputs": [
    {
     "name": "stdout",
     "output_type": "stream",
     "text": [
      "  0%|          | 0/100 [00:00<?, ?trial/s, best loss=?]"
     ]
    },
    {
     "name": "stdout",
     "output_type": "stream",
     "text": [
      "SCORE:                                                 \n",
      "0.6938775510204082                                     \n",
      "SCORE:                                                 \n",
      "0.7142857142857143                                                                \n",
      "SCORE:                                                                            \n",
      "0.7142857142857143                                                                \n",
      "SCORE:                                                                            \n",
      "0.6938775510204082                                                                \n",
      "SCORE:                                                                            \n",
      "0.7551020408163265                                                                \n",
      "SCORE:                                                                            \n",
      "0.7551020408163265                                                                \n",
      "SCORE:                                                                            \n",
      "0.6938775510204082                                                                \n",
      "SCORE:                                                                            \n",
      "0.7346938775510204                                                                \n",
      "SCORE:                                                                            \n",
      "0.7755102040816326                                                                \n",
      "SCORE:                                                                            \n",
      "0.7346938775510204                                                                \n",
      "SCORE:                                                                             \n",
      "0.7346938775510204                                                                 \n",
      "SCORE:                                                                             \n",
      "0.7346938775510204                                                                 \n",
      "SCORE:                                                                             \n",
      "0.7346938775510204                                                                 \n",
      "SCORE:                                                                             \n",
      "0.7551020408163265                                                                 \n",
      "SCORE:                                                                             \n",
      "0.6530612244897959                                                                 \n",
      "SCORE:                                                                             \n",
      "0.7551020408163265                                                                 \n",
      "SCORE:                                                                             \n",
      "0.7142857142857143                                                                 \n",
      "SCORE:                                                                             \n",
      "0.7755102040816326                                                                 \n",
      "SCORE:                                                                             \n",
      "0.7346938775510204                                                                 \n",
      "SCORE:                                                                             \n",
      "0.7346938775510204                                                                 \n",
      "SCORE:                                                                             \n",
      "0.7551020408163265                                                                 \n",
      "SCORE:                                                                             \n",
      "0.7959183673469388                                                                 \n",
      "SCORE:                                                                             \n",
      "0.7959183673469388                                                                 \n",
      "SCORE:                                                                             \n",
      "0.7346938775510204                                                                 \n",
      "SCORE:                                                                             \n",
      "0.7551020408163265                                                                 \n",
      "SCORE:                                                                             \n",
      "0.7142857142857143                                                                 \n",
      "SCORE:                                                                             \n",
      "0.7551020408163265                                                                 \n",
      "SCORE:                                                                             \n",
      "0.7551020408163265                                                                 \n",
      "SCORE:                                                                             \n",
      "0.7551020408163265                                                                 \n",
      "SCORE:                                                                             \n",
      "0.6938775510204082                                                                 \n",
      "SCORE:                                                                             \n",
      "0.7755102040816326                                                                 \n",
      "SCORE:                                                                             \n",
      "0.7959183673469388                                                                 \n",
      "SCORE:                                                                             \n",
      "0.7755102040816326                                                                 \n",
      "SCORE:                                                                             \n",
      "0.7551020408163265                                                                 \n",
      "SCORE:                                                                             \n",
      "0.7755102040816326                                                                 \n",
      "SCORE:                                                                             \n",
      "0.7142857142857143                                                                 \n",
      "SCORE:                                                                             \n",
      "0.7142857142857143                                                                 \n",
      "SCORE:                                                                             \n",
      "0.7142857142857143                                                                 \n",
      "SCORE:                                                                             \n",
      "0.7755102040816326                                                                 \n",
      "SCORE:                                                                             \n",
      "0.7755102040816326                                                                 \n",
      "SCORE:                                                                             \n",
      "0.7346938775510204                                                                 \n",
      "SCORE:                                                                             \n",
      "0.7959183673469388                                                                 \n",
      "SCORE:                                                                             \n",
      "0.6938775510204082                                                                 \n",
      "SCORE:                                                                             \n",
      "0.7551020408163265                                                                 \n",
      "SCORE:                                                                             \n",
      "0.7755102040816326                                                                 \n",
      "SCORE:                                                                             \n",
      "0.7142857142857143                                                                 \n",
      "SCORE:                                                                             \n",
      "0.7755102040816326                                                                 \n",
      "SCORE:                                                                             \n",
      "0.7346938775510204                                                                 \n",
      "SCORE:                                                                             \n",
      "0.7346938775510204                                                                 \n",
      "SCORE:                                                                             \n",
      "0.7142857142857143                                                                 \n",
      "SCORE:                                                                             \n",
      "0.7142857142857143                                                                 \n",
      "SCORE:                                                                             \n",
      "0.7346938775510204                                                                 \n",
      "SCORE:                                                                             \n",
      "0.7551020408163265                                                                 \n",
      "SCORE:                                                                             \n",
      "0.7346938775510204                                                                 \n",
      "SCORE:                                                                             \n",
      "0.7755102040816326                                                                 \n",
      "SCORE:                                                                             \n",
      "0.7551020408163265                                                                 \n",
      "SCORE:                                                                             \n",
      "0.7346938775510204                                                                 \n",
      "SCORE:                                                                             \n",
      "0.7142857142857143                                                                 \n",
      "SCORE:                                                                             \n",
      "0.673469387755102                                                                  \n",
      "SCORE:                                                                             \n",
      "0.7755102040816326                                                                 \n",
      "SCORE:                                                                             \n",
      "0.7346938775510204                                                                 \n",
      "SCORE:                                                                             \n",
      "0.7142857142857143                                                                 \n",
      "SCORE:                                                                             \n",
      "0.7346938775510204                                                                 \n",
      "SCORE:                                                                             \n",
      "0.7346938775510204                                                                 \n",
      "SCORE:                                                                             \n",
      "0.7346938775510204                                                                 \n",
      "SCORE:                                                                             \n",
      "0.7959183673469388                                                                 \n",
      "SCORE:                                                                             \n",
      "0.7551020408163265                                                                 \n",
      "SCORE:                                                                             \n",
      "0.7346938775510204                                                                 \n",
      "SCORE:                                                                             \n",
      "0.7346938775510204                                                                 \n",
      "SCORE:                                                                             \n",
      "0.7551020408163265                                                                 \n",
      "SCORE:                                                                             \n",
      "0.7755102040816326                                                                 \n",
      "SCORE:                                                                             \n",
      "0.7755102040816326                                                                 \n",
      "SCORE:                                                                             \n",
      "0.6938775510204082                                                                 \n",
      "SCORE:                                                                             \n",
      "0.7346938775510204                                                                 \n",
      "SCORE:                                                                             \n",
      "0.7142857142857143                                                                 \n",
      "SCORE:                                                                             \n",
      "0.7346938775510204                                                                 \n",
      "SCORE:                                                                             \n",
      "0.7755102040816326                                                                 \n",
      "SCORE:                                                                             \n",
      "0.7346938775510204                                                                 \n",
      "SCORE:                                                                             \n",
      "0.6938775510204082                                                                 \n",
      "SCORE:                                                                             \n",
      "0.673469387755102                                                                  \n",
      "SCORE:                                                                             \n",
      "0.7755102040816326                                                                 \n",
      "SCORE:                                                                             \n",
      "0.7755102040816326                                                                 \n",
      "SCORE:                                                                             \n",
      "0.7346938775510204                                                                 \n",
      "SCORE:                                                                             \n",
      "0.7346938775510204                                                                 \n",
      "SCORE:                                                                             \n",
      "0.7142857142857143                                                                 \n",
      "SCORE:                                                                             \n",
      "0.7959183673469388                                                                 \n",
      "SCORE:                                                                             \n",
      "0.7755102040816326                                                                 \n",
      "SCORE:                                                                             \n",
      "0.7551020408163265                                                                 \n",
      "SCORE:                                                                             \n",
      "0.7346938775510204                                                                 \n",
      "SCORE:                                                                             \n",
      "0.7551020408163265                                                                 \n",
      "SCORE:                                                                             \n",
      "0.7755102040816326                                                                 \n",
      "SCORE:                                                                             \n",
      "0.7346938775510204                                                                 \n",
      "SCORE:                                                                             \n",
      "0.7142857142857143                                                                 \n",
      "SCORE:                                                                             \n",
      "0.7551020408163265                                                                 \n",
      "SCORE:                                                                             \n",
      "0.7346938775510204                                                                 \n",
      "SCORE:                                                                             \n",
      "0.7346938775510204                                                                 \n",
      "SCORE:                                                                             \n",
      "0.7346938775510204                                                                 \n",
      "SCORE:                                                                             \n",
      "0.7346938775510204                                                                 \n",
      "SCORE:                                                                             \n",
      "0.673469387755102                                                                  \n",
      "SCORE:                                                                             \n",
      "0.7142857142857143                                                                 \n",
      "100%|██████████| 100/100 [00:08<00:00, 11.55trial/s, best loss: -0.7959183673469388]\n"
     ]
    }
   ],
   "source": [
    "#somewhat random, running this many time can result in slightly differing best scores.\n",
    "trials = Trials()\n",
    "\n",
    "best_hyperparams = fmin(fn = HP_tuning,\n",
    "                        space = hyper_params,\n",
    "                        algo = tpe.suggest,\n",
    "                        max_evals = 100,\n",
    "                        trials = trials)"
   ]
  },
  {
   "cell_type": "code",
   "execution_count": 14,
   "id": "27cd0ad3",
   "metadata": {},
   "outputs": [
    {
     "name": "stdout",
     "output_type": "stream",
     "text": [
      "loss : -0.7959183673469388\n",
      "XGBClassifier(base_score=None, booster=None, callbacks=None,\n",
      "              colsample_bylevel=None, colsample_bynode=None, colsample_bytree=0,\n",
      "              device=None, early_stopping_rounds=None, enable_categorical=False,\n",
      "              eta=0.5619707245469561, eval_metric=None, feature_types=None,\n",
      "              gamma=2.4303833865261866, grow_policy='lossguide',\n",
      "              importance_type=None, interaction_constraints=None,\n",
      "              learning_rate=0.03240226568629434, max_bin=None,\n",
      "              max_cat_threshold=None, max_cat_to_onehot=None,\n",
      "              max_delta_step=101.0, max_depth=17, max_leaves=60,\n",
      "              min_child_weight=4, missing=nan, monotone_constraints=None,\n",
      "              multi_strategy=None, n_estimators=180, n_jobs=None,\n",
      "              num_parallel_tree=None, ...)\n"
     ]
    }
   ],
   "source": [
    "loss = trials.best_trial['result']['loss']\n",
    "print ('loss :', loss)\n",
    "rugby_model = trials.best_trial['result']['model']\n",
    "print (rugby_model)"
   ]
  },
  {
   "cell_type": "code",
   "execution_count": 15,
   "id": "2e7db825",
   "metadata": {},
   "outputs": [
    {
     "name": "stdout",
     "output_type": "stream",
     "text": [
      "\n",
      "---------CLASSIFIER PERFORMANCE-------------------------------\n",
      "\n",
      "       Classifier score:  0.7959\n",
      "      Training Accuracy:  0.7959\n",
      "    Prediciton Accuracy:  0.7959\n",
      "              Precision:  0.8086\n",
      "                 Recall:  0.7455\n",
      "               F1 Score:  0.7598\n",
      "                  AUROC:  0.7446\n",
      "               Log Loss:  0.5571615018485565\n",
      "\n",
      "---------CROSS VALIDATION-------------------------------------\n",
      "\n",
      " Cross validated scores:  [0.7    0.7    0.3    0.6    0.6667]\n",
      "     Mean of CV results:  0.5933\n",
      "      STD of CV results:  0.1511\n",
      "    Absolute Mean Error:  0.4067\n",
      "                   RMSE:  0.6377\n",
      "\n",
      "---------CLASSIFICATION REPORT--------------------------------\n",
      "\n",
      "\n",
      "               precision    recall  f1-score   support\n",
      "\n",
      "           0       0.83      0.56      0.67        18\n",
      "           1       0.78      0.94      0.85        31\n",
      "\n",
      "    accuracy                           0.80        49\n",
      "   macro avg       0.81      0.75      0.76        49\n",
      "weighted avg       0.80      0.80      0.78        49\n",
      "\n",
      "\n",
      "---------CONFUSION MATRIX-------------------------------------\n",
      "\n",
      "    0   1\n",
      "0  10   8\n",
      "1   2  29\n",
      "\n",
      "---------GRAPHICS---------------------------------------------\n",
      "\n"
     ]
    },
    {
     "data": {
      "image/png": "[encoded data removed]",
      "text/plain": [
       "<Figure size 640x480 with 2 Axes>"
      ]
     },
     "metadata": {},
     "output_type": "display_data"
    },
    {
     "data": {
      "image/png": "[encoded data removed]",
      "text/plain": [
       "<Figure size 640x480 with 2 Axes>"
      ]
     },
     "metadata": {},
     "output_type": "display_data"
    },
    {
     "data": {
      "text/html": [
       "<style>#sk-container-id-1 {color: black;}#sk-container-id-1 pre{padding: 0;}#sk-container-id-1 div.sk-toggleable {background-color: white;}#sk-container-id-1 label.sk-toggleable__label {cursor: pointer;display: block;width: 100%;margin-bottom: 0;padding: 0.3em;box-sizing: border-box;text-align: center;}#sk-container-id-1 label.sk-toggleable__label-arrow:before {content: \"▸\";float: left;margin-right: 0.25em;color: #696969;}#sk-container-id-1 label.sk-toggleable__label-arrow:hover:before {color: black;}#sk-container-id-1 div.sk-estimator:hover label.sk-toggleable__label-arrow:before {color: black;}#sk-container-id-1 div.sk-toggleable__content {max-height: 0;max-width: 0;overflow: hidden;text-align: left;background-color: #f0f8ff;}#sk-container-id-1 div.sk-toggleable__content pre {margin: 0.2em;color: black;border-radius: 0.25em;background-color: #f0f8ff;}#sk-container-id-1 input.sk-toggleable__control:checked~div.sk-toggleable__content {max-height: 200px;max-width: 100%;overflow: auto;}#sk-container-id-1 input.sk-toggleable__control:checked~label.sk-toggleable__label-arrow:before {content: \"▾\";}#sk-container-id-1 div.sk-estimator input.sk-toggleable__control:checked~label.sk-toggleable__label {background-color: #d4ebff;}#sk-container-id-1 div.sk-label input.sk-toggleable__control:checked~label.sk-toggleable__label {background-color: #d4ebff;}#sk-container-id-1 input.sk-hidden--visually {border: 0;clip: rect(1px 1px 1px 1px);clip: rect(1px, 1px, 1px, 1px);height: 1px;margin: -1px;overflow: hidden;padding: 0;position: absolute;width: 1px;}#sk-container-id-1 div.sk-estimator {font-family: monospace;background-color: #f0f8ff;border: 1px dotted black;border-radius: 0.25em;box-sizing: border-box;margin-bottom: 0.5em;}#sk-container-id-1 div.sk-estimator:hover {background-color: #d4ebff;}#sk-container-id-1 div.sk-parallel-item::after {content: \"\";width: 100%;border-bottom: 1px solid gray;flex-grow: 1;}#sk-container-id-1 div.sk-label:hover label.sk-toggleable__label {background-color: #d4ebff;}#sk-container-id-1 div.sk-serial::before {content: \"\";position: absolute;border-left: 1px solid gray;box-sizing: border-box;top: 0;bottom: 0;left: 50%;z-index: 0;}#sk-container-id-1 div.sk-serial {display: flex;flex-direction: column;align-items: center;background-color: white;padding-right: 0.2em;padding-left: 0.2em;position: relative;}#sk-container-id-1 div.sk-item {position: relative;z-index: 1;}#sk-container-id-1 div.sk-parallel {display: flex;align-items: stretch;justify-content: center;background-color: white;position: relative;}#sk-container-id-1 div.sk-item::before, #sk-container-id-1 div.sk-parallel-item::before {content: \"\";position: absolute;border-left: 1px solid gray;box-sizing: border-box;top: 0;bottom: 0;left: 50%;z-index: -1;}#sk-container-id-1 div.sk-parallel-item {display: flex;flex-direction: column;z-index: 1;position: relative;background-color: white;}#sk-container-id-1 div.sk-parallel-item:first-child::after {align-self: flex-end;width: 50%;}#sk-container-id-1 div.sk-parallel-item:last-child::after {align-self: flex-start;width: 50%;}#sk-container-id-1 div.sk-parallel-item:only-child::after {width: 0;}#sk-container-id-1 div.sk-dashed-wrapped {border: 1px dashed gray;margin: 0 0.4em 0.5em 0.4em;box-sizing: border-box;padding-bottom: 0.4em;background-color: white;}#sk-container-id-1 div.sk-label label {font-family: monospace;font-weight: bold;display: inline-block;line-height: 1.2em;}#sk-container-id-1 div.sk-label-container {text-align: center;}#sk-container-id-1 div.sk-container {/* jupyter's `normalize.less` sets `[hidden] { display: none; }` but bootstrap.min.css set `[hidden] { display: none !important; }` so we also need the `!important` here to be able to override the default hidden behavior on the sphinx rendered scikit-learn.org. See: https://github.com/scikit-learn/scikit-learn/issues/21755 */display: inline-block !important;position: relative;}#sk-container-id-1 div.sk-text-repr-fallback {display: none;}</style><div id=\"sk-container-id-1\" class=\"sk-top-container\"><div class=\"sk-text-repr-fallback\"><pre>XGBClassifier(base_score=None, booster=None, callbacks=None,\n",
       "              colsample_bylevel=None, colsample_bynode=None, colsample_bytree=0,\n",
       "              device=None, early_stopping_rounds=None, enable_categorical=False,\n",
       "              eta=0.5619707245469561, eval_metric=None, feature_types=None,\n",
       "              gamma=2.4303833865261866, grow_policy=&#x27;lossguide&#x27;,\n",
       "              importance_type=None, interaction_constraints=None,\n",
       "              learning_rate=0.03240226568629434, max_bin=None,\n",
       "              max_cat_threshold=None, max_cat_to_onehot=None,\n",
       "              max_delta_step=101.0, max_depth=17, max_leaves=60,\n",
       "              min_child_weight=4, missing=nan, monotone_constraints=None,\n",
       "              multi_strategy=None, n_estimators=180, n_jobs=None,\n",
       "              num_parallel_tree=None, ...)</pre><b>In a Jupyter environment, please rerun this cell to show the HTML representation or trust the notebook. <br />On GitHub, the HTML representation is unable to render, please try loading this page with nbviewer.org.</b></div><div class=\"sk-container\" hidden><div class=\"sk-item\"><div class=\"sk-estimator sk-toggleable\"><input class=\"sk-toggleable__control sk-hidden--visually\" id=\"sk-estimator-id-1\" type=\"checkbox\" checked><label for=\"sk-estimator-id-1\" class=\"sk-toggleable__label sk-toggleable__label-arrow\">XGBClassifier</label><div class=\"sk-toggleable__content\"><pre>XGBClassifier(base_score=None, booster=None, callbacks=None,\n",
       "              colsample_bylevel=None, colsample_bynode=None, colsample_bytree=0,\n",
       "              device=None, early_stopping_rounds=None, enable_categorical=False,\n",
       "              eta=0.5619707245469561, eval_metric=None, feature_types=None,\n",
       "              gamma=2.4303833865261866, grow_policy=&#x27;lossguide&#x27;,\n",
       "              importance_type=None, interaction_constraints=None,\n",
       "              learning_rate=0.03240226568629434, max_bin=None,\n",
       "              max_cat_threshold=None, max_cat_to_onehot=None,\n",
       "              max_delta_step=101.0, max_depth=17, max_leaves=60,\n",
       "              min_child_weight=4, missing=nan, monotone_constraints=None,\n",
       "              multi_strategy=None, n_estimators=180, n_jobs=None,\n",
       "              num_parallel_tree=None, ...)</pre></div></div></div></div></div>"
      ],
      "text/plain": [
       "XGBClassifier(base_score=None, booster=None, callbacks=None,\n",
       "              colsample_bylevel=None, colsample_bynode=None, colsample_bytree=0,\n",
       "              device=None, early_stopping_rounds=None, enable_categorical=False,\n",
       "              eta=0.5619707245469561, eval_metric=None, feature_types=None,\n",
       "              gamma=2.4303833865261866, grow_policy='lossguide',\n",
       "              importance_type=None, interaction_constraints=None,\n",
       "              learning_rate=0.03240226568629434, max_bin=None,\n",
       "              max_cat_threshold=None, max_cat_to_onehot=None,\n",
       "              max_delta_step=101.0, max_depth=17, max_leaves=60,\n",
       "              min_child_weight=4, missing=nan, monotone_constraints=None,\n",
       "              multi_strategy=None, n_estimators=180, n_jobs=None,\n",
       "              num_parallel_tree=None, ...)"
      ]
     },
     "execution_count": 15,
     "metadata": {},
     "output_type": "execute_result"
    }
   ],
   "source": [
    "#Getting themodel performance\n",
    "train_a_model(X, y, 5, 6, rugby_model)"
   ]
  },
  {
   "cell_type": "markdown",
   "id": "5646792a",
   "metadata": {},
   "source": [
    "# The best model for prediction is the XGB model \n",
    "## Export this model"
   ]
  },
  {
   "cell_type": "code",
   "execution_count": 16,
   "id": "cb74a6cc",
   "metadata": {},
   "outputs": [
    {
     "ename": "NameError",
     "evalue": "name 'XGB_mod' is not defined",
     "output_type": "error",
     "traceback": [
      "\u001b[1;31m---------------------------------------------------------------------------\u001b[0m",
      "\u001b[1;31mNameError\u001b[0m                                 Traceback (most recent call last)",
      "Cell \u001b[1;32mIn[16], line 2\u001b[0m\n\u001b[0;32m      1\u001b[0m filename \u001b[38;5;241m=\u001b[39m \u001b[38;5;124m'\u001b[39m\u001b[38;5;124mrugby_model.sav\u001b[39m\u001b[38;5;124m'\u001b[39m\n\u001b[1;32m----> 2\u001b[0m joblib\u001b[38;5;241m.\u001b[39mdump(\u001b[43mXGB_mod\u001b[49m, filename)\n",
      "\u001b[1;31mNameError\u001b[0m: name 'XGB_mod' is not defined"
     ]
    }
   ],
   "source": [
    "filename = 'rugby_model.sav'\n",
    "joblib.dump(XGB_mod, filename)"
   ]
  },
  {
   "cell_type": "markdown",
   "id": "651f9ff7",
   "metadata": {},
   "source": [
    "# Testing the Model: Select Teams and use the model to predict"
   ]
  },
  {
   "cell_type": "code",
   "execution_count": 1,
   "id": "3b003499",
   "metadata": {},
   "outputs": [],
   "source": [
    "def select_team(df, home, away, model):\n",
    "    home_team_df = df[df['name'].isin(home)].reset_index()\n",
    "    away_team_df = df[df['name'].isin(away)].reset_index()\n",
    "    \n",
    "    home_team = home_team_df.iloc[:, 3:6]\n",
    "    home_team.columns = {'home_ability_score', 'home_attack_score', 'home_defend_score'}\n",
    "    \n",
    "    away_team = away_team_df.iloc[:, 3:6]\n",
    "    away_team.columns = {'away_ability_score', 'away_attack_score', 'away_defend_score'}\n",
    "    \n",
    "    teams_df = pd.concat([home_team, away_team], axis = 1)\n",
    "    teams_df = pd.DataFrame(teams_df.sum(axis=0)).T\n",
    "    \n",
    "    #turn into array for model\n",
    "    team_arr = np.asarray(teams_df)\n",
    "    team_data = team_arr.reshape(1, 6)\n",
    "    \n",
    "    # print(model.predict(team_data))\n",
    "    # print(model.predict_proba(team_data))\n",
    "    print(model.predict(team_data))\n",
    "    print(model.predict_proba(team_data))\n",
    "    return model.predict(team_data), model.predict_pro(team_data)\n",
    "   "
   ]
  },
  {
   "cell_type": "code",
   "execution_count": 2,
   "id": "ce9ef7d9",
   "metadata": {},
   "outputs": [],
   "source": [
    "#this is a real line up for a game player on the 17th of May between the Hurricanes (home) and Moana Pasifika (away) in which the Hurricanes won. This match is not in the data used on the model\n",
    "home_team = ['Pouri Rakete-Stones', 'Raymond Tuputupu', 'Siale Lauaki', 'Justin Sangster', \n",
    "             'Ben Grant', 'Brad Shields', \"Du'Plessis Kirifi\", 'Devan Flanders',\n",
    "            'Richard Judd', 'Aidan Morgan', 'Kini Naholo', 'Peter Umaga-Jensen',\n",
    "            'Bailyn Sullivan','Dan Sinkinson', 'Harry Godfrey', \"James O'Reilly\",\n",
    "            'Xavier Numia', 'Pasilio Tosi', 'Isaia Walker-Leawere', 'Peter Lakai',\n",
    "            'Jordi Viljoen', 'Riley Higgins', 'Salesi Rayasi']\n",
    "\n",
    "away_team = ['Abraham Pole', 'Samiuela Moli', 'Sione Mafileo', 'Tom Savage', 'Allan Craig',\n",
    "             'Jacob Norris', 'Sione Havili Talitui', 'Fine Inisi', 'Lotu Inisi', 'Jonathan Taumateine',\n",
    "             'William Havili', 'Neria Fomai', 'Julian Savea', 'Pepesana Patafilo', 'Danny Toala',\n",
    "             'Sama Malolo', 'Ola Tauelangi',  'Sekope Kepu', 'Samuel Slade', 'Alamanda Motuga',\n",
    "             'Aisea Halo', \"Christian Leali'ifano\", 'Anzelo Tuitavuki']"
   ]
  },
  {
   "cell_type": "code",
   "execution_count": 19,
   "id": "140ab04c",
   "metadata": {},
   "outputs": [
    {
     "name": "stdout",
     "output_type": "stream",
     "text": [
      "[1]\n",
      "[[0.36691648 0.6330835 ]]\n"
     ]
    }
   ],
   "source": [
    "select_team(player_ability, home_team, away_team, rugby_model)"
   ]
  },
  {
   "cell_type": "code",
   "execution_count": 4,
   "id": "6fda0a70",
   "metadata": {},
   "outputs": [],
   "source": [
    "import joblib"
   ]
  },
  {
   "cell_type": "code",
   "execution_count": 5,
   "id": "6eda751b",
   "metadata": {},
   "outputs": [],
   "source": [
    "filename = 'rugby_model.sav'\n",
    "loaded_model = joblib.load(filename)"
   ]
  },
  {
   "cell_type": "code",
   "execution_count": 10,
   "id": "d396436b",
   "metadata": {},
   "outputs": [],
   "source": [
    "import pandas as pd\n",
    "import numpy as np"
   ]
  },
  {
   "cell_type": "code",
   "execution_count": 11,
   "id": "2f17ea69",
   "metadata": {},
   "outputs": [],
   "source": [
    "match_df = pd.read_csv('match_df.csv').iloc[:, 1:]\n",
    "player_ability = pd.read_csv('ranked_player_data.csv').iloc[:, 1:]"
   ]
  },
  {
   "cell_type": "code",
   "execution_count": 13,
   "id": "b9356e28",
   "metadata": {},
   "outputs": [
    {
     "name": "stdout",
     "output_type": "stream",
     "text": [
      "[1]\n",
      "[[0.47562367 0.52437633]]\n"
     ]
    },
    {
     "ename": "TypeError",
     "evalue": "'NoneType' object is not subscriptable",
     "output_type": "error",
     "traceback": [
      "\u001b[1;31m---------------------------------------------------------------------------\u001b[0m",
      "\u001b[1;31mTypeError\u001b[0m                                 Traceback (most recent call last)",
      "Cell \u001b[1;32mIn[13], line 1\u001b[0m\n\u001b[1;32m----> 1\u001b[0m \u001b[43mselect_team\u001b[49m\u001b[43m(\u001b[49m\u001b[43mplayer_ability\u001b[49m\u001b[43m,\u001b[49m\u001b[43m \u001b[49m\u001b[43mhome_team\u001b[49m\u001b[43m,\u001b[49m\u001b[43m \u001b[49m\u001b[43maway_team\u001b[49m\u001b[43m,\u001b[49m\u001b[43m \u001b[49m\u001b[43mloaded_model\u001b[49m\u001b[43m)\u001b[49m\u001b[43m[\u001b[49m\u001b[38;5;241;43m0\u001b[39;49m\u001b[43m]\u001b[49m\n",
      "\u001b[1;31mTypeError\u001b[0m: 'NoneType' object is not subscriptable"
     ]
    }
   ],
   "source": [
    "select_team(player_ability, home_team, away_team, loaded_model)"
   ]
  },
  {
   "cell_type": "code",
   "execution_count": null,
   "id": "3cbd4b2a",
   "metadata": {},
   "outputs": [],
   "source": []
  }
 ],
 "metadata": {
  "kernelspec": {
   "display_name": "Python 3 (ipykernel)",
   "language": "python",
   "name": "python3"
  },
  "language_info": {
   "codemirror_mode": {
    "name": "ipython",
    "version": 3
   },
   "file_extension": ".py",
   "mimetype": "text/x-python",
   "name": "python",
   "nbconvert_exporter": "python",
   "pygments_lexer": "ipython3",
   "version": "3.10.13"
  }
 },
 "nbformat": 4,
 "nbformat_minor": 5
}
