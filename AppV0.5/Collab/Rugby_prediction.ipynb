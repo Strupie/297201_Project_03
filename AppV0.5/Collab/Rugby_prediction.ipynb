{
 "cells": [
  {
   "cell_type": "markdown",
   "id": "7ca21afd",
   "metadata": {},
   "source": [
    "# PROJECT 3 - Training the Models\n",
    "by: \n",
    "Jonathan Tan, <br>\n",
    "Seunghyeok Kang, <br>\n",
    "John Lavack, 20001249\n"
   ]
  },
  {
   "cell_type": "code",
   "execution_count": 408,
   "id": "6c32ddb4",
   "metadata": {},
   "outputs": [],
   "source": [
    "# imports\n",
    "import numpy as np\n",
    "import pandas as pd\n",
    "import matplotlib.pyplot as plt\n",
    "import seaborn as sns\n",
    "import pylab\n",
    "import csv\n",
    "import joblib\n",
    "from sklearn.metrics import mean_absolute_error, mean_squared_error\n",
    "from sklearn.metrics import log_loss, classification_report\n",
    "from sklearn.metrics import accuracy_score, precision_score, recall_score, f1_score, confusion_matrix\n",
    "from sklearn.metrics import roc_curve, roc_auc_score, auc\n",
    "from sklearn.metrics import precision_recall_curve, average_precision_score\n",
    "from sklearn.model_selection import train_test_split, KFold, cross_val_score, RepeatedStratifiedKFold\n",
    "from sklearn import svm\n",
    "from sklearn.svm import SVC\n",
    "from sklearn.naive_bayes import GaussianNB\n",
    "from sklearn.neighbors import KNeighborsClassifier\n",
    "from sklearn.neural_network import MLPClassifier\n",
    "from xgboost import XGBClassifier, XGBRegressor\n",
    "import warnings\n",
    "\n",
    "warnings.filterwarnings('ignore')"
   ]
  },
  {
   "cell_type": "markdown",
   "id": "adbc9148",
   "metadata": {},
   "source": [
    "# Training Models Function"
   ]
  },
  {
   "cell_type": "code",
   "execution_count": 409,
   "id": "80fe1a18",
   "metadata": {},
   "outputs": [],
   "source": [
    "def train_a_model(X, y, k, rs, mod ):\n",
    "    X_train, X_test, y_train, y_test = train_test_split(X, y, random_state=rs,  test_size=0.2)\n",
    "\n",
    "    model = mod\n",
    "    model.fit(X_train, y_train)\n",
    "    predictions = model.predict(X_test)\n",
    "    y_pred_proba = model.predict_proba(X_test)\n",
    "      \n",
    "    #Cross validate\n",
    "    #set the Kfold\n",
    "    kf = KFold(n_splits = k, random_state=6, shuffle = True) \n",
    "    #do the cross validation\n",
    "    scores = cross_val_score(model, X_test, y_test, cv=kf, scoring='accuracy', n_jobs = -1)\n",
    "    #view mean absolute error\n",
    "    MSEscores = cross_val_score(model, X_test, y_test, scoring='neg_mean_absolute_error', cv=kf)\n",
    "    MSE = np.round(abs(MSEscores.mean()),4)\n",
    "    #view RMSE\n",
    "    RMSEscores = cross_val_score(model, X_test, y_test, scoring='neg_mean_squared_error',cv=kf)\n",
    "    RMSE = np.round(np.sqrt(abs(RMSEscores.mean())),4)\n",
    "\n",
    "    conmat = confusion_matrix(y_test, predictions)\n",
    "    val = np.mat(conmat) \n",
    "    classnames = list(set(y_train))\n",
    "    df_cm = pd.DataFrame(val, index=classnames, columns=classnames)\n",
    "    \n",
    "    classifier = np.round(model.score(X_test, y_test),4)\n",
    "    train_accuracy = np.round(model.score(X_test, y_test), 4)\n",
    "    accuracy = np.round(accuracy_score(y_test, predictions), 4)\n",
    "    precision = np.round(precision_score(y_test, predictions, average='macro'), 4)\n",
    "    recall = np.round(recall_score(y_test, predictions, average='macro'), 4)\n",
    "    f1 = np.round(f1_score(y_test, predictions, average='macro'), 4)\n",
    "    AUROC = np.round(roc_auc_score(y_test, y_pred_proba[:,1]), 4)\n",
    "    ll = log_loss(y_test, y_pred_proba)\n",
    "    \n",
    "    #----------------Print scores----------------------------------------------\n",
    "    print(\"\\n---------CLASSIFIER PERFORMANCE-------------------------------\\n\")\n",
    "    print('       Classifier score: ', classifier)\n",
    "    print(\"      Training Accuracy: \", train_accuracy)\n",
    "    print(\"    Prediciton Accuracy: \", accuracy)\n",
    "    print(\"              Precision: \", precision)\n",
    "    print(\"                 Recall: \", recall)\n",
    "    print(\"               F1 Score: \", f1)\n",
    "    print(\"                  AUROC: \", AUROC)\n",
    "    print(\"               Log Loss: \", ll)\n",
    "    print(\"\\n---------CROSS VALIDATION-------------------------------------\\n\")\n",
    "    print(' Cross validated scores: ', np.round(scores,4))\n",
    "    print('     Mean of CV results: ', np.round(scores.mean(), 4))\n",
    "    print('      STD of CV results: ', np.round(scores.std(), 4))\n",
    "    print('    Absolute Mean Error: ', MSE)\n",
    "    print('                   RMSE: ', RMSE)\n",
    "    print(\"\\n---------CLASSIFICATION REPORT--------------------------------\\n\")\n",
    "    print('\\n', metrics.classification_report(y_test, predictions))\n",
    "    print(\"\\n---------CONFUSION MATRIX-------------------------------------\\n\")    \n",
    "    print(df_cm)\n",
    "    print(\"\\n---------GRAPHICS---------------------------------------------\\n\") \n",
    "    \n",
    "    #raw confusion matrix\n",
    "    plt.figure()\n",
    "    heatmap = sns.heatmap(df_cm, annot=True, cmap=\"Blues\")\n",
    "    heatmap.yaxis.set_ticklabels(heatmap.yaxis.get_ticklabels(), rotation=0, ha='right')\n",
    "    heatmap.xaxis.set_ticklabels(heatmap.xaxis.get_ticklabels(), rotation=45, ha='right')\n",
    "    plt.ylabel('True label')\n",
    "    plt.xlabel('Predicted label')\n",
    "    plt.title('Confusion Matrix KNN Regression Model Results')\n",
    "    plt.show()  \n",
    "    \n",
    "    #confusion matrix as percentages\n",
    "    df_cm = df_cm.astype('float') / df_cm.sum(axis=1)  \n",
    "    \n",
    "    plt.figure()\n",
    "    heatmap = sns.heatmap(df_cm, annot=True, cmap=\"Blues\")\n",
    "    heatmap.yaxis.set_ticklabels(heatmap.yaxis.get_ticklabels(), rotation=0, ha='right')\n",
    "    heatmap.xaxis.set_ticklabels(heatmap.xaxis.get_ticklabels(), rotation=45, ha='right')\n",
    "    plt.ylabel('True label')\n",
    "    plt.xlabel('Predicted label')\n",
    "    plt.title('Confusion Matrix KNN Regression Model Results')\n",
    "    plt.show()     \n",
    "    \n",
    "    return model"
   ]
  },
  {
   "cell_type": "markdown",
   "id": "453ab897",
   "metadata": {},
   "source": [
    "# Read in the Data"
   ]
  },
  {
   "cell_type": "code",
   "execution_count": 385,
   "id": "fdea8a60",
   "metadata": {},
   "outputs": [],
   "source": [
    "match_df = pd.read_csv('match_df.csv').iloc[:, 1:]\n",
    "player_ability = pd.read_csv('ranked_player_data.csv').iloc[:, 1:]"
   ]
  },
  {
   "cell_type": "markdown",
   "id": "db1c9d1a",
   "metadata": {},
   "source": [
    "# Train the models\n"
   ]
  },
  {
   "cell_type": "code",
   "execution_count": 263,
   "id": "7204ff41",
   "metadata": {},
   "outputs": [],
   "source": [
    "y = match_df['outcome']\n",
    "X = match_df[['home_ability_score', 'home_attack_score', 'home_defend_score', 'away_ability_score', 'away_attack_score', 'away_defend_score']]"
   ]
  },
  {
   "cell_type": "code",
   "execution_count": 410,
   "id": "4a0b93d1",
   "metadata": {
    "scrolled": true
   },
   "outputs": [
    {
     "name": "stdout",
     "output_type": "stream",
     "text": [
      "\n",
      "---------CLASSIFIER PERFORMANCE-------------------------------\n",
      "\n",
      "       Classifier score:  0.7551\n",
      "      Training Accuracy:  0.7551\n",
      "    Prediciton Accuracy:  0.7551\n",
      "              Precision:  0.7429\n",
      "                 Recall:  0.7133\n",
      "               F1 Score:  0.7216\n",
      "                  AUROC:  0.7599\n",
      "               Log Loss:  0.7732085181197866\n",
      "\n",
      "---------CROSS VALIDATION-------------------------------------\n",
      "\n",
      " Cross validated scores:  [0.9    0.6    0.7    0.6    0.6667]\n",
      "     Mean of CV results:  0.6933\n",
      "      STD of CV results:  0.1104\n",
      "    Absolute Mean Error:  0.3067\n",
      "                   RMSE:  0.5538\n",
      "\n",
      "---------CLASSIFICATION REPORT--------------------------------\n",
      "\n",
      "\n",
      "               precision    recall  f1-score   support\n",
      "\n",
      "           0       0.71      0.56      0.63        18\n",
      "           1       0.77      0.87      0.82        31\n",
      "\n",
      "    accuracy                           0.76        49\n",
      "   macro avg       0.74      0.71      0.72        49\n",
      "weighted avg       0.75      0.76      0.75        49\n",
      "\n",
      "\n",
      "---------CONFUSION MATRIX-------------------------------------\n",
      "\n",
      "    0   1\n",
      "0  10   8\n",
      "1   4  27\n",
      "\n",
      "---------GRAPHICS---------------------------------------------\n",
      "\n"
     ]
    },
    {
     "data": {
      "image/png": "[encoded data removed]",
      "text/plain": [
       "<Figure size 432x288 with 2 Axes>"
      ]
     },
     "metadata": {
      "needs_background": "light"
     },
     "output_type": "display_data"
    },
    {
     "data": {
      "image/png": "[encoded data removed]",
      "text/plain": [
       "<Figure size 432x288 with 2 Axes>"
      ]
     },
     "metadata": {
      "needs_background": "light"
     },
     "output_type": "display_data"
    }
   ],
   "source": [
    "model = GaussianNB()\n",
    "NB_mod = train_a_model(X, y, 5, 6, model)"
   ]
  },
  {
   "cell_type": "code",
   "execution_count": 411,
   "id": "bfa825cc",
   "metadata": {
    "scrolled": true
   },
   "outputs": [
    {
     "name": "stdout",
     "output_type": "stream",
     "text": [
      "\n",
      "---------CLASSIFIER PERFORMANCE-------------------------------\n",
      "\n",
      "       Classifier score:  0.7959\n",
      "      Training Accuracy:  0.7959\n",
      "    Prediciton Accuracy:  0.7959\n",
      "              Precision:  0.8086\n",
      "                 Recall:  0.7455\n",
      "               F1 Score:  0.7598\n",
      "                  AUROC:  0.7401\n",
      "               Log Loss:  0.5700269767976537\n",
      "\n",
      "---------CROSS VALIDATION-------------------------------------\n",
      "\n",
      " Cross validated scores:  [0.9    0.7    0.3    0.5    0.6667]\n",
      "     Mean of CV results:  0.6133\n",
      "      STD of CV results:  0.2018\n",
      "    Absolute Mean Error:  0.3867\n",
      "                   RMSE:  0.6218\n",
      "\n",
      "---------CLASSIFICATION REPORT--------------------------------\n",
      "\n",
      "\n",
      "               precision    recall  f1-score   support\n",
      "\n",
      "           0       0.83      0.56      0.67        18\n",
      "           1       0.78      0.94      0.85        31\n",
      "\n",
      "    accuracy                           0.80        49\n",
      "   macro avg       0.81      0.75      0.76        49\n",
      "weighted avg       0.80      0.80      0.78        49\n",
      "\n",
      "\n",
      "---------CONFUSION MATRIX-------------------------------------\n",
      "\n",
      "    0   1\n",
      "0  10   8\n",
      "1   2  29\n",
      "\n",
      "---------GRAPHICS---------------------------------------------\n",
      "\n"
     ]
    },
    {
     "data": {
      "image/png": "[encoded data removed]",
      "text/plain": [
       "<Figure size 432x288 with 2 Axes>"
      ]
     },
     "metadata": {
      "needs_background": "light"
     },
     "output_type": "display_data"
    },
    {
     "data": {
      "image/png": "[encoded data removed]",
      "text/plain": [
       "<Figure size 432x288 with 2 Axes>"
      ]
     },
     "metadata": {
      "needs_background": "light"
     },
     "output_type": "display_data"
    }
   ],
   "source": [
    "model = XGBClassifier(objective='binary:logistic', random_state = 6, learning_rate=0.2, \n",
    "                      max_depth=1, eta = 0.5, gamma = 5, min_child_weight = 2,\n",
    "                     subsample = 0.5, reg_lambda = 1, reg_alpha = 0)\n",
    "XGB_mod = train_a_model(X, y, 5, 6, model)"
   ]
  },
  {
   "cell_type": "code",
   "execution_count": 413,
   "id": "609e9d3e",
   "metadata": {
    "scrolled": true
   },
   "outputs": [
    {
     "name": "stdout",
     "output_type": "stream",
     "text": [
      "\n",
      "---------CLASSIFIER PERFORMANCE-------------------------------\n",
      "\n",
      "       Classifier score:  0.6327\n",
      "      Training Accuracy:  0.6327\n",
      "    Prediciton Accuracy:  0.6327\n",
      "              Precision:  0.3163\n",
      "                 Recall:  0.5\n",
      "               F1 Score:  0.3875\n",
      "                  AUROC:  0.5\n",
      "               Log Loss:  12.687713777722294\n",
      "\n",
      "---------CROSS VALIDATION-------------------------------------\n",
      "\n",
      " Cross validated scores:  [0.7    0.7    0.3    0.6    0.8889]\n",
      "     Mean of CV results:  0.6378\n",
      "      STD of CV results:  0.193\n",
      "    Absolute Mean Error:  0.3622\n",
      "                   RMSE:  0.6018\n",
      "\n",
      "---------CLASSIFICATION REPORT--------------------------------\n",
      "\n",
      "\n",
      "               precision    recall  f1-score   support\n",
      "\n",
      "           0       0.00      0.00      0.00        18\n",
      "           1       0.63      1.00      0.78        31\n",
      "\n",
      "    accuracy                           0.63        49\n",
      "   macro avg       0.32      0.50      0.39        49\n",
      "weighted avg       0.40      0.63      0.49        49\n",
      "\n",
      "\n",
      "---------CONFUSION MATRIX-------------------------------------\n",
      "\n",
      "   0   1\n",
      "0  0  18\n",
      "1  0  31\n",
      "\n",
      "---------GRAPHICS---------------------------------------------\n",
      "\n"
     ]
    },
    {
     "data": {
      "image/png": "[encoded data removed]",
      "text/plain": [
       "<Figure size 432x288 with 2 Axes>"
      ]
     },
     "metadata": {
      "needs_background": "light"
     },
     "output_type": "display_data"
    },
    {
     "data": {
      "image/png": "[encoded data removed]",
      "text/plain": [
       "<Figure size 432x288 with 2 Axes>"
      ]
     },
     "metadata": {
      "needs_background": "light"
     },
     "output_type": "display_data"
    }
   ],
   "source": [
    "model = MLPClassifier(solver='lbfgs', alpha=1e-5, activation = 'identity', learning_rate = 'constant',\n",
    "                    hidden_layer_sizes=(10, 2), random_state = 6)\n",
    "MLP_mod = train_a_model(X, y, 5, 6, model)"
   ]
  },
  {
   "cell_type": "code",
   "execution_count": 412,
   "id": "95c374ff",
   "metadata": {
    "scrolled": true
   },
   "outputs": [
    {
     "name": "stdout",
     "output_type": "stream",
     "text": [
      "\n",
      "---------CLASSIFIER PERFORMANCE-------------------------------\n",
      "\n",
      "       Classifier score:  0.6531\n",
      "      Training Accuracy:  0.6531\n",
      "    Prediciton Accuracy:  0.6531\n",
      "              Precision:  0.6241\n",
      "                 Recall:  0.621\n",
      "               F1 Score:  0.6222\n",
      "                  AUROC:  0.7025\n",
      "               Log Loss:  3.1928462064982517\n",
      "\n",
      "---------CROSS VALIDATION-------------------------------------\n",
      "\n",
      " Cross validated scores:  [0.9    0.8    0.6    0.6    0.6667]\n",
      "     Mean of CV results:  0.7133\n",
      "      STD of CV results:  0.1185\n",
      "    Absolute Mean Error:  0.2867\n",
      "                   RMSE:  0.5354\n",
      "\n",
      "---------CLASSIFICATION REPORT--------------------------------\n",
      "\n",
      "\n",
      "               precision    recall  f1-score   support\n",
      "\n",
      "           0       0.53      0.50      0.51        18\n",
      "           1       0.72      0.74      0.73        31\n",
      "\n",
      "    accuracy                           0.65        49\n",
      "   macro avg       0.62      0.62      0.62        49\n",
      "weighted avg       0.65      0.65      0.65        49\n",
      "\n",
      "\n",
      "---------CONFUSION MATRIX-------------------------------------\n",
      "\n",
      "   0   1\n",
      "0  9   9\n",
      "1  8  23\n",
      "\n",
      "---------GRAPHICS---------------------------------------------\n",
      "\n"
     ]
    },
    {
     "data": {
      "image/png": "[encoded data removed]",
      "text/plain": [
       "<Figure size 432x288 with 2 Axes>"
      ]
     },
     "metadata": {
      "needs_background": "light"
     },
     "output_type": "display_data"
    },
    {
     "data": {
      "image/png": "[encoded data removed]",
      "text/plain": [
       "<Figure size 432x288 with 2 Axes>"
      ]
     },
     "metadata": {
      "needs_background": "light"
     },
     "output_type": "display_data"
    }
   ],
   "source": [
    "model = KNeighborsClassifier(n_neighbors=5, metric='euclidean')\n",
    "KNN_mod = train_a_model(X, y, 5, 6, model)"
   ]
  },
  {
   "cell_type": "code",
   "execution_count": 270,
   "id": "d5037293",
   "metadata": {
    "scrolled": true
   },
   "outputs": [
    {
     "name": "stdout",
     "output_type": "stream",
     "text": [
      "Accuracy: 71.43%\n",
      "              precision    recall  f1-score   support\n",
      "\n",
      "           0       0.61      0.61      0.61        18\n",
      "           1       0.77      0.77      0.77        31\n",
      "\n",
      "    accuracy                           0.71        49\n",
      "   macro avg       0.69      0.69      0.69        49\n",
      "weighted avg       0.71      0.71      0.71        49\n",
      "\n",
      "    0   1\n",
      "0  11   7\n",
      "1   7  24\n"
     ]
    }
   ],
   "source": [
    "#SVM doesn't have probabilities, so the funciton won't work for it\n",
    "model = svm.SVC(kernel = 'linear', )\n",
    "model.fit(X_train, y_train)\n",
    "predictions = model.predict(X_test)\n",
    "#y_pred_proba = model.predict_proba(X_test)\n",
    "\n",
    "accuracy = model.score(X_test, y_test)\n",
    "print(\"Accuracy: %.2f%%\" % (accuracy * 100.0))\n",
    "\n",
    "log_loss(y_test, y_pred_proba)\n",
    "\n",
    "# Calculate ROC AUC\n",
    "roc_auc_score(y_test, y_pred_proba[:,1])\n",
    "print(classification_report(y_test, predictions))\n",
    "\n",
    "#set the Kfold\n",
    "kf = KFold(n_splits = 5, random_state=6, shuffle = True) \n",
    "#do the cross validation\n",
    "scores = cross_val_score(model, X_test, y_test, cv=kf, scoring='accuracy', n_jobs = -1)\n",
    "#view mean absolute error\n",
    "MSEscores = cross_val_score(model, X_test, y_test, scoring='neg_mean_absolute_error', cv=kf)\n",
    "MSE = np.round(abs(MSEscores.mean()),4)\n",
    "#view RMSE\n",
    "RMSEscores = cross_val_score(model, X_test, y_test, scoring='neg_mean_squared_error',cv=kf)\n",
    "RMSE = np.round(np.sqrt(abs(RMSEscores.mean())),4)\n",
    "\n",
    "conmat = confusion_matrix(y_test, predictions)\n",
    "val = np.mat(conmat) \n",
    "classnames = list(set(y_train))\n",
    "df_cm = pd.DataFrame(val, index=classnames, columns=classnames)\n",
    "print(df_cm)"
   ]
  },
  {
   "cell_type": "markdown",
   "id": "5646792a",
   "metadata": {},
   "source": [
    "# The best model for prediction is the XGB model \n",
    "## Export this model"
   ]
  },
  {
   "cell_type": "code",
   "execution_count": 368,
   "id": "cb74a6cc",
   "metadata": {},
   "outputs": [
    {
     "data": {
      "text/plain": [
       "['rugby_model.sav']"
      ]
     },
     "execution_count": 368,
     "metadata": {},
     "output_type": "execute_result"
    }
   ],
   "source": [
    "filename = 'rugby_model.sav'\n",
    "joblib.dump(XGB_mod, filename)"
   ]
  },
  {
   "cell_type": "markdown",
   "id": "651f9ff7",
   "metadata": {},
   "source": [
    "# Select Teams and use the model to predict"
   ]
  },
  {
   "cell_type": "code",
   "execution_count": 404,
   "id": "3b003499",
   "metadata": {},
   "outputs": [],
   "source": [
    "def select_team(df, home, away):\n",
    "    home_team_df = df[df['name'].isin(home)].reset_index()\n",
    "    away_team_df = df[df['name'].isin(away)].reset_index()\n",
    "    \n",
    "    home_team = home_team_df.iloc[:, 3:6]\n",
    "    home_team.columns = {'home_ability_score', 'home_attack_score', 'home_defend_score'}\n",
    "    \n",
    "    away_team = away_team_df.iloc[:, 3:6]\n",
    "    away_team.columns = {'away_ability_score', 'away_attack_score', 'away_defend_score'}\n",
    "    \n",
    "    teams_df = pd.concat([home_team, away_team], axis = 1)\n",
    "    teams_df = pd.DataFrame(teams_df.sum(axis=0)).T\n",
    "    \n",
    "    #turn into array for model\n",
    "    team_arr = np.asarray(teams_df)\n",
    "    team_data = new_arr.reshape(1, 6)\n",
    "    \n",
    "    return team_data\n",
    "   "
   ]
  },
  {
   "cell_type": "code",
   "execution_count": 379,
   "id": "ce9ef7d9",
   "metadata": {},
   "outputs": [],
   "source": [
    "home_team = ['Pouri Rakete-Stones', 'Raymond Tuputupu', 'Siale Lauaki', 'Justin Sangster', \n",
    "             'Ben Grant', 'Brad Shields', \"Du'Plessis Kirifi\", 'Devan Flanders',\n",
    "            'Richard Judd', 'Aidan Morgan', 'Kini Naholo', 'Peter Umaga-Jensen',\n",
    "            'Bailyn Sullivan','Dan Sinkinson', 'Harry Godfrey', \"James O'Reilly\",\n",
    "            'Xavier Numia', 'Pasilio Tosi', 'Isaia Walker-Leawere', 'Peter Lakai',\n",
    "            'Jordi Viljoen', 'Riley Higgins', 'Salesi Rayasi']\n",
    "\n",
    "away_team = ['Abraham Pole', 'Samiuela Moli', 'Sione Mafileo', 'Tom Savage', 'Allan Craig',\n",
    "             'Jacob Norris', 'Sione Havili Talitui', 'Fine Inisi', 'Lotu Inisi', 'Jonathan Taumateine',\n",
    "             'William Havili', 'Neria Fomai', 'Julian Savea', 'Pepesana Patafilo', 'Danny Toala',\n",
    "             'Sama Malolo', 'Ola Tauelangi',  'Sekope Kepu', 'Samuel Slade', 'Alamanda Motuga',\n",
    "             'Aisea Halo', \"Christian Leali'ifano\", 'Anzelo Tuitavuki']"
   ]
  },
  {
   "cell_type": "code",
   "execution_count": 407,
   "id": "30204379",
   "metadata": {},
   "outputs": [
    {
     "name": "stdout",
     "output_type": "stream",
     "text": [
      "[1]\n"
     ]
    }
   ],
   "source": [
    "#1 means home team won, 0 means away team won\n",
    "print(XGB_mod.predict(select_team(player_ability, home_team, away_team)))"
   ]
  }
 ],
 "metadata": {
  "kernelspec": {
   "display_name": "Python 3 (ipykernel)",
   "language": "python",
   "name": "python3"
  },
  "language_info": {
   "codemirror_mode": {
    "name": "ipython",
    "version": 3
   },
   "file_extension": ".py",
   "mimetype": "text/x-python",
   "name": "python",
   "nbconvert_exporter": "python",
   "pygments_lexer": "ipython3",
   "version": "3.9.7"
  }
 },
 "nbformat": 4,
 "nbformat_minor": 5
}
